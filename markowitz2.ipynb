{
 "cells": [
  {
   "cell_type": "markdown",
   "metadata": {},
   "source": [
    "# <center> MARKOWITZ </center>\n",
    "\n",
    "## Libraries\n"
   ]
  },
  {
   "cell_type": "code",
   "execution_count": 2,
   "metadata": {},
   "outputs": [],
   "source": [
    "import yfinance as yf\n",
    "import numpy as np\n",
    "import matplotlib.pyplot as plt\n",
    "from scipy.optimize import minimize\n",
    "from pypfopt.cla import CLA\n",
    "from pypfopt import risk_models, expected_returns, plotting\n",
    "\n",
    "from tqdm import tqdm"
   ]
  },
  {
   "cell_type": "code",
   "execution_count": 3,
   "metadata": {},
   "outputs": [],
   "source": [
    "from pypfopt.discrete_allocation import DiscreteAllocation, get_latest_prices\n",
    "from pypfopt import EfficientFrontier\n",
    "from pypfopt import risk_models\n",
    "from pypfopt import expected_returns\n",
    "\n",
    "import numpy as np \n",
    "import pandas as pd\n",
    "import warnings\n",
    "import matplotlib.pyplot as plt\n",
    "warnings.filterwarnings('ignore')"
   ]
  },
  {
   "cell_type": "code",
   "execution_count": 66,
   "metadata": {},
   "outputs": [],
   "source": [
    "from datetime import datetime, timedelta"
   ]
  },
  {
   "cell_type": "code",
   "execution_count": 4,
   "metadata": {},
   "outputs": [
    {
     "name": "stderr",
     "output_type": "stream",
     "text": [
      "[*********************100%%**********************]  5 of 5 completed\n",
      "[*********************100%%**********************]  5 of 5 completed\n"
     ]
    }
   ],
   "source": [
    "# Define stocks and fetch data\n",
    "stocks = [\"BBVA\", \"NVDA\", \"AMZN\", \"BABA\", \"^IRX\"]\n",
    "data = yf.download(stocks, start=\"2022-01-01\", end=\"2024-08-31\")['Adj Close']\n",
    "val_data = yf.download(stocks, start=\"2024-09-01\", end=\"2024-11-25\")['Adj Close']\n",
    "\n",
    "# Calculate daily returns\n",
    "returns = data.pct_change().dropna()\n",
    "\n",
    "# Calculate mean returns and covariance matrix\n",
    "mean_returns = returns.mean()\n",
    "cov_matrix = returns.cov()"
   ]
  },
  {
   "cell_type": "code",
   "execution_count": 7,
   "metadata": {},
   "outputs": [
    {
     "data": {
      "text/html": [
       "<div>\n",
       "<style scoped>\n",
       "    .dataframe tbody tr th:only-of-type {\n",
       "        vertical-align: middle;\n",
       "    }\n",
       "\n",
       "    .dataframe tbody tr th {\n",
       "        vertical-align: top;\n",
       "    }\n",
       "\n",
       "    .dataframe thead th {\n",
       "        text-align: right;\n",
       "    }\n",
       "</style>\n",
       "<table border=\"1\" class=\"dataframe\">\n",
       "  <thead>\n",
       "    <tr style=\"text-align: right;\">\n",
       "      <th>Ticker</th>\n",
       "      <th>AMZN</th>\n",
       "      <th>BABA</th>\n",
       "      <th>BBVA</th>\n",
       "      <th>NVDA</th>\n",
       "      <th>^IRX</th>\n",
       "    </tr>\n",
       "    <tr>\n",
       "      <th>Date</th>\n",
       "      <th></th>\n",
       "      <th></th>\n",
       "      <th></th>\n",
       "      <th></th>\n",
       "      <th></th>\n",
       "    </tr>\n",
       "  </thead>\n",
       "  <tbody>\n",
       "    <tr>\n",
       "      <th>2022-01-03</th>\n",
       "      <td>170.404495</td>\n",
       "      <td>116.256577</td>\n",
       "      <td>4.823013</td>\n",
       "      <td>30.070986</td>\n",
       "      <td>0.053</td>\n",
       "    </tr>\n",
       "    <tr>\n",
       "      <th>2022-01-04</th>\n",
       "      <td>167.522003</td>\n",
       "      <td>115.464661</td>\n",
       "      <td>4.920284</td>\n",
       "      <td>29.241371</td>\n",
       "      <td>0.080</td>\n",
       "    </tr>\n",
       "    <tr>\n",
       "      <th>2022-01-05</th>\n",
       "      <td>164.356995</td>\n",
       "      <td>117.009865</td>\n",
       "      <td>4.839225</td>\n",
       "      <td>27.558167</td>\n",
       "      <td>0.085</td>\n",
       "    </tr>\n",
       "    <tr>\n",
       "      <th>2022-01-06</th>\n",
       "      <td>163.253998</td>\n",
       "      <td>122.292496</td>\n",
       "      <td>5.033767</td>\n",
       "      <td>28.131214</td>\n",
       "      <td>0.090</td>\n",
       "    </tr>\n",
       "    <tr>\n",
       "      <th>2022-01-07</th>\n",
       "      <td>162.554001</td>\n",
       "      <td>125.363571</td>\n",
       "      <td>5.155355</td>\n",
       "      <td>27.201761</td>\n",
       "      <td>0.088</td>\n",
       "    </tr>\n",
       "    <tr>\n",
       "      <th>...</th>\n",
       "      <td>...</td>\n",
       "      <td>...</td>\n",
       "      <td>...</td>\n",
       "      <td>...</td>\n",
       "      <td>...</td>\n",
       "    </tr>\n",
       "    <tr>\n",
       "      <th>2024-08-26</th>\n",
       "      <td>175.500000</td>\n",
       "      <td>81.760002</td>\n",
       "      <td>10.205999</td>\n",
       "      <td>126.440468</td>\n",
       "      <td>4.998</td>\n",
       "    </tr>\n",
       "    <tr>\n",
       "      <th>2024-08-27</th>\n",
       "      <td>173.119995</td>\n",
       "      <td>81.449997</td>\n",
       "      <td>10.293231</td>\n",
       "      <td>128.280197</td>\n",
       "      <td>4.968</td>\n",
       "    </tr>\n",
       "    <tr>\n",
       "      <th>2024-08-28</th>\n",
       "      <td>170.800003</td>\n",
       "      <td>79.620003</td>\n",
       "      <td>10.235077</td>\n",
       "      <td>125.590607</td>\n",
       "      <td>4.955</td>\n",
       "    </tr>\n",
       "    <tr>\n",
       "      <th>2024-08-29</th>\n",
       "      <td>172.119995</td>\n",
       "      <td>81.019997</td>\n",
       "      <td>10.235077</td>\n",
       "      <td>117.571838</td>\n",
       "      <td>4.965</td>\n",
       "    </tr>\n",
       "    <tr>\n",
       "      <th>2024-08-30</th>\n",
       "      <td>178.500000</td>\n",
       "      <td>83.339996</td>\n",
       "      <td>10.322308</td>\n",
       "      <td>119.351570</td>\n",
       "      <td>4.968</td>\n",
       "    </tr>\n",
       "  </tbody>\n",
       "</table>\n",
       "<p>669 rows × 5 columns</p>\n",
       "</div>"
      ],
      "text/plain": [
       "Ticker            AMZN        BABA       BBVA        NVDA   ^IRX\n",
       "Date                                                            \n",
       "2022-01-03  170.404495  116.256577   4.823013   30.070986  0.053\n",
       "2022-01-04  167.522003  115.464661   4.920284   29.241371  0.080\n",
       "2022-01-05  164.356995  117.009865   4.839225   27.558167  0.085\n",
       "2022-01-06  163.253998  122.292496   5.033767   28.131214  0.090\n",
       "2022-01-07  162.554001  125.363571   5.155355   27.201761  0.088\n",
       "...                ...         ...        ...         ...    ...\n",
       "2024-08-26  175.500000   81.760002  10.205999  126.440468  4.998\n",
       "2024-08-27  173.119995   81.449997  10.293231  128.280197  4.968\n",
       "2024-08-28  170.800003   79.620003  10.235077  125.590607  4.955\n",
       "2024-08-29  172.119995   81.019997  10.235077  117.571838  4.965\n",
       "2024-08-30  178.500000   83.339996  10.322308  119.351570  4.968\n",
       "\n",
       "[669 rows x 5 columns]"
      ]
     },
     "execution_count": 7,
     "metadata": {},
     "output_type": "execute_result"
    }
   ],
   "source": [
    "data"
   ]
  },
  {
   "cell_type": "code",
   "execution_count": 5,
   "metadata": {},
   "outputs": [
    {
     "data": {
      "text/plain": [
       "Ticker\n",
       "AMZN    0.000377\n",
       "BABA    0.000076\n",
       "BBVA    0.001364\n",
       "NVDA    0.002693\n",
       "^IRX    0.007767\n",
       "dtype: float64"
      ]
     },
     "execution_count": 5,
     "metadata": {},
     "output_type": "execute_result"
    }
   ],
   "source": [
    "mean_returns"
   ]
  },
  {
   "cell_type": "code",
   "execution_count": 6,
   "metadata": {},
   "outputs": [
    {
     "data": {
      "text/html": [
       "<div>\n",
       "<style scoped>\n",
       "    .dataframe tbody tr th:only-of-type {\n",
       "        vertical-align: middle;\n",
       "    }\n",
       "\n",
       "    .dataframe tbody tr th {\n",
       "        vertical-align: top;\n",
       "    }\n",
       "\n",
       "    .dataframe thead th {\n",
       "        text-align: right;\n",
       "    }\n",
       "</style>\n",
       "<table border=\"1\" class=\"dataframe\">\n",
       "  <thead>\n",
       "    <tr style=\"text-align: right;\">\n",
       "      <th>Ticker</th>\n",
       "      <th>AMZN</th>\n",
       "      <th>BABA</th>\n",
       "      <th>BBVA</th>\n",
       "      <th>NVDA</th>\n",
       "      <th>^IRX</th>\n",
       "    </tr>\n",
       "    <tr>\n",
       "      <th>Ticker</th>\n",
       "      <th></th>\n",
       "      <th></th>\n",
       "      <th></th>\n",
       "      <th></th>\n",
       "      <th></th>\n",
       "    </tr>\n",
       "  </thead>\n",
       "  <tbody>\n",
       "    <tr>\n",
       "      <th>AMZN</th>\n",
       "      <td>0.000615</td>\n",
       "      <td>0.000248</td>\n",
       "      <td>0.000195</td>\n",
       "      <td>0.000500</td>\n",
       "      <td>-0.000014</td>\n",
       "    </tr>\n",
       "    <tr>\n",
       "      <th>BABA</th>\n",
       "      <td>0.000248</td>\n",
       "      <td>0.001196</td>\n",
       "      <td>0.000201</td>\n",
       "      <td>0.000376</td>\n",
       "      <td>0.000055</td>\n",
       "    </tr>\n",
       "    <tr>\n",
       "      <th>BBVA</th>\n",
       "      <td>0.000195</td>\n",
       "      <td>0.000201</td>\n",
       "      <td>0.000446</td>\n",
       "      <td>0.000281</td>\n",
       "      <td>0.000113</td>\n",
       "    </tr>\n",
       "    <tr>\n",
       "      <th>NVDA</th>\n",
       "      <td>0.000500</td>\n",
       "      <td>0.000376</td>\n",
       "      <td>0.000281</td>\n",
       "      <td>0.001276</td>\n",
       "      <td>-0.000076</td>\n",
       "    </tr>\n",
       "    <tr>\n",
       "      <th>^IRX</th>\n",
       "      <td>-0.000014</td>\n",
       "      <td>0.000055</td>\n",
       "      <td>0.000113</td>\n",
       "      <td>-0.000076</td>\n",
       "      <td>0.002149</td>\n",
       "    </tr>\n",
       "  </tbody>\n",
       "</table>\n",
       "</div>"
      ],
      "text/plain": [
       "Ticker      AMZN      BABA      BBVA      NVDA      ^IRX\n",
       "Ticker                                                  \n",
       "AMZN    0.000615  0.000248  0.000195  0.000500 -0.000014\n",
       "BABA    0.000248  0.001196  0.000201  0.000376  0.000055\n",
       "BBVA    0.000195  0.000201  0.000446  0.000281  0.000113\n",
       "NVDA    0.000500  0.000376  0.000281  0.001276 -0.000076\n",
       "^IRX   -0.000014  0.000055  0.000113 -0.000076  0.002149"
      ]
     },
     "execution_count": 6,
     "metadata": {},
     "output_type": "execute_result"
    }
   ],
   "source": [
    "cov_matrix"
   ]
  },
  {
   "cell_type": "code",
   "execution_count": 28,
   "metadata": {},
   "outputs": [],
   "source": [
    "# Calculate expected returns and sample covariance\n",
    "mu = expected_returns.mean_historical_return(data)\n",
    "S = risk_models.sample_cov(data)"
   ]
  },
  {
   "cell_type": "code",
   "execution_count": 29,
   "metadata": {},
   "outputs": [
    {
     "data": {
      "text/plain": [
       "Ticker\n",
       "AMZN    0.017664\n",
       "BABA   -0.118010\n",
       "BBVA    0.332490\n",
       "NVDA    0.682091\n",
       "^IRX    4.544885\n",
       "dtype: float64"
      ]
     },
     "execution_count": 29,
     "metadata": {},
     "output_type": "execute_result"
    }
   ],
   "source": [
    "mu"
   ]
  },
  {
   "cell_type": "code",
   "execution_count": 30,
   "metadata": {},
   "outputs": [
    {
     "data": {
      "text/html": [
       "<div>\n",
       "<style scoped>\n",
       "    .dataframe tbody tr th:only-of-type {\n",
       "        vertical-align: middle;\n",
       "    }\n",
       "\n",
       "    .dataframe tbody tr th {\n",
       "        vertical-align: top;\n",
       "    }\n",
       "\n",
       "    .dataframe thead th {\n",
       "        text-align: right;\n",
       "    }\n",
       "</style>\n",
       "<table border=\"1\" class=\"dataframe\">\n",
       "  <thead>\n",
       "    <tr style=\"text-align: right;\">\n",
       "      <th>Ticker</th>\n",
       "      <th>AMZN</th>\n",
       "      <th>BABA</th>\n",
       "      <th>BBVA</th>\n",
       "      <th>NVDA</th>\n",
       "      <th>^IRX</th>\n",
       "    </tr>\n",
       "    <tr>\n",
       "      <th>Ticker</th>\n",
       "      <th></th>\n",
       "      <th></th>\n",
       "      <th></th>\n",
       "      <th></th>\n",
       "      <th></th>\n",
       "    </tr>\n",
       "  </thead>\n",
       "  <tbody>\n",
       "    <tr>\n",
       "      <th>AMZN</th>\n",
       "      <td>0.154980</td>\n",
       "      <td>0.062421</td>\n",
       "      <td>0.049238</td>\n",
       "      <td>0.126121</td>\n",
       "      <td>-0.003511</td>\n",
       "    </tr>\n",
       "    <tr>\n",
       "      <th>BABA</th>\n",
       "      <td>0.062421</td>\n",
       "      <td>0.301515</td>\n",
       "      <td>0.050526</td>\n",
       "      <td>0.094723</td>\n",
       "      <td>0.013817</td>\n",
       "    </tr>\n",
       "    <tr>\n",
       "      <th>BBVA</th>\n",
       "      <td>0.049238</td>\n",
       "      <td>0.050526</td>\n",
       "      <td>0.112386</td>\n",
       "      <td>0.070892</td>\n",
       "      <td>0.028400</td>\n",
       "    </tr>\n",
       "    <tr>\n",
       "      <th>NVDA</th>\n",
       "      <td>0.126121</td>\n",
       "      <td>0.094723</td>\n",
       "      <td>0.070892</td>\n",
       "      <td>0.321551</td>\n",
       "      <td>-0.019248</td>\n",
       "    </tr>\n",
       "    <tr>\n",
       "      <th>^IRX</th>\n",
       "      <td>-0.003511</td>\n",
       "      <td>0.013817</td>\n",
       "      <td>0.028400</td>\n",
       "      <td>-0.019248</td>\n",
       "      <td>0.541503</td>\n",
       "    </tr>\n",
       "  </tbody>\n",
       "</table>\n",
       "</div>"
      ],
      "text/plain": [
       "Ticker      AMZN      BABA      BBVA      NVDA      ^IRX\n",
       "Ticker                                                  \n",
       "AMZN    0.154980  0.062421  0.049238  0.126121 -0.003511\n",
       "BABA    0.062421  0.301515  0.050526  0.094723  0.013817\n",
       "BBVA    0.049238  0.050526  0.112386  0.070892  0.028400\n",
       "NVDA    0.126121  0.094723  0.070892  0.321551 -0.019248\n",
       "^IRX   -0.003511  0.013817  0.028400 -0.019248  0.541503"
      ]
     },
     "execution_count": 30,
     "metadata": {},
     "output_type": "execute_result"
    }
   ],
   "source": [
    "S"
   ]
  },
  {
   "cell_type": "code",
   "execution_count": 31,
   "metadata": {},
   "outputs": [
    {
     "name": "stdout",
     "output_type": "stream",
     "text": [
      "These are the cleaned weights:  OrderedDict([('AMZN', 0.0), ('BABA', 0.0), ('BBVA', 0.0), ('NVDA', 0.23653), ('^IRX', 0.76347)])\n",
      "Expected annual return: 363.1%\n",
      "Annual volatility: 57.2%\n",
      "Sharpe Ratio: 6.35\n"
     ]
    }
   ],
   "source": [
    "# Optimize for maximal Sharpe ratio\n",
    "ef = EfficientFrontier(mu, S)\n",
    "raw_weights = ef.max_sharpe()\n",
    "#print(\"These are the raw weights: \", raw_weights)\n",
    "cleaned_weights = ef.clean_weights()\n",
    "print(\"These are the cleaned weights: \", cleaned_weights)\n",
    "ef_performance = ef.portfolio_performance(verbose=True)\n"
   ]
  },
  {
   "cell_type": "code",
   "execution_count": 33,
   "metadata": {},
   "outputs": [
    {
     "name": "stdout",
     "output_type": "stream",
     "text": [
      "Optimal Portfolio Weights:\n",
      "AMZN: 0.0000%\n",
      "BABA: 0.0000%\n",
      "BBVA: 0.0000%\n",
      "NVDA: 23.6530%\n",
      "^IRX: 76.3470%\n",
      "\n",
      "Portfolio performance:\n",
      "Expected annual return: 3.631205878760077\n",
      "Annual volatility: 0.5715506503597778\n",
      "Sharpe ratio: 6.353252990744246\n"
     ]
    }
   ],
   "source": [
    "# Display results\n",
    "print(\"Optimal Portfolio Weights:\")\n",
    "for stock, weight in cleaned_weights.items():\n",
    "    print(f\"{stock}: {weight:.4%}\")\n",
    "print(\"\\nPortfolio performance:\")\n",
    "print(\"Expected annual return:\", ef_performance[0])\n",
    "print(\"Annual volatility:\", ef_performance[1])\n",
    "print(\"Sharpe ratio:\", ef_performance[2])"
   ]
  },
  {
   "cell_type": "code",
   "execution_count": 34,
   "metadata": {},
   "outputs": [
    {
     "name": "stdout",
     "output_type": "stream",
     "text": [
      "These are the cleaned weights:  OrderedDict([('AMZN', 0.0), ('BABA', 0.0), ('BBVA', 0.0), ('NVDA', 0.23653), ('^IRX', 0.76347)])\n",
      "Expected annual return: 363.1%\n",
      "Annual volatility: 57.2%\n",
      "Sharpe Ratio: 6.35\n"
     ]
    }
   ],
   "source": [
    "mu = expected_returns.mean_historical_return(data)\n",
    "S = risk_models.sample_cov(data)\n",
    "\n",
    "# Use CLA to compute the optimal portfolio\n",
    "cla = CLA(mu, S)\n",
    "cla.max_sharpe()  # Maximize the Sharpe Ratio\n",
    "cla_weights = cla.clean_weights()\n",
    "print(\"These are the cleaned weights: \", cla_weights)\n",
    "cla_performance = cla.portfolio_performance(verbose=True)\n"
   ]
  },
  {
   "cell_type": "code",
   "execution_count": 35,
   "metadata": {},
   "outputs": [
    {
     "name": "stdout",
     "output_type": "stream",
     "text": [
      "Optimal Portfolio Weights:\n",
      "AMZN: 0.0000%\n",
      "BABA: 0.0000%\n",
      "BBVA: 0.0000%\n",
      "NVDA: 23.6530%\n",
      "^IRX: 76.3470%\n",
      "\n",
      "Portfolio performance:\n",
      "Expected annual return: 3.6312058578592965\n",
      "Annual volatility: 0.5715506470700016\n",
      "Sharpe ratio: 6.353252990744246\n"
     ]
    },
    {
     "data": {
      "text/plain": [
       "Text(55.847222222222214, 0.5, 'Expected Return')"
      ]
     },
     "execution_count": 35,
     "metadata": {},
     "output_type": "execute_result"
    },
    {
     "data": {
      "image/png": "[encoded data removed]",
      "text/plain": [
       "<Figure size 640x480 with 1 Axes>"
      ]
     },
     "metadata": {},
     "output_type": "display_data"
    }
   ],
   "source": [
    "# Display results\n",
    "print(\"Optimal Portfolio Weights:\")\n",
    "for stock, weight in cla_weights.items():\n",
    "    print(f\"{stock}: {weight:.4%}\")\n",
    "print(\"\\nPortfolio performance:\")\n",
    "print(\"Expected annual return:\", cla_performance[0])\n",
    "print(\"Annual volatility:\", cla_performance[1])\n",
    "print(\"Sharpe ratio:\", cla_performance[2])\n",
    "\n",
    "# Plot the efficient frontier\n",
    "ax = plotting.plot_efficient_frontier(cla, show_assets=True)\n",
    "plt.title(\"Efficient Frontier with Individual Stocks\")\n",
    "plt.xlabel(\"Volatility\")\n",
    "plt.ylabel(\"Expected Return\")"
   ]
  },
  {
   "cell_type": "code",
   "execution_count": 54,
   "metadata": {},
   "outputs": [],
   "source": [
    "dates = pd.date_range(start=\"2024-09-01\", end=\"2024-11-25\")"
   ]
  },
  {
   "cell_type": "code",
   "execution_count": 50,
   "metadata": {},
   "outputs": [],
   "source": [
    "def get_data(tickets, start, end):\n",
    "    dates = pd.DataFrame(pd.date_range(start=start, end=end), columns=[\"date\"])\n",
    "    dates.date = dates.date.astype(str)\n",
    "    data = yf.download(tickets, start, end)[\"Close\"]\n",
    "    data.reset_index(inplace=True, drop=False)\n",
    "    data = data[[\"Date\"] + tickets]\n",
    "    data.rename(columns={'Date': 'date'}, inplace=True)\n",
    "    data.date = data.date.astype(str)\n",
    "    data = dates.merge(data, on=\"date\", how=\"left\")\n",
    "    data = data.interpolate()\n",
    "    return data"
   ]
  },
  {
   "cell_type": "code",
   "execution_count": 92,
   "metadata": {},
   "outputs": [
    {
     "name": "stderr",
     "output_type": "stream",
     "text": [
      "[*********************100%%**********************]  5 of 5 completed\n"
     ]
    }
   ],
   "source": [
    "data = get_data(stocks, \"2023-12-01\", \"2024-11-25\")"
   ]
  },
  {
   "cell_type": "code",
   "execution_count": 94,
   "metadata": {},
   "outputs": [],
   "source": [
    "data = data[data.date>=\"2024-01-01\"]"
   ]
  },
  {
   "cell_type": "code",
   "execution_count": 95,
   "metadata": {},
   "outputs": [
    {
     "data": {
      "text/html": [
       "<div>\n",
       "<style scoped>\n",
       "    .dataframe tbody tr th:only-of-type {\n",
       "        vertical-align: middle;\n",
       "    }\n",
       "\n",
       "    .dataframe tbody tr th {\n",
       "        vertical-align: top;\n",
       "    }\n",
       "\n",
       "    .dataframe thead th {\n",
       "        text-align: right;\n",
       "    }\n",
       "</style>\n",
       "<table border=\"1\" class=\"dataframe\">\n",
       "  <thead>\n",
       "    <tr style=\"text-align: right;\">\n",
       "      <th></th>\n",
       "      <th>date</th>\n",
       "      <th>BBVA</th>\n",
       "      <th>NVDA</th>\n",
       "      <th>AMZN</th>\n",
       "      <th>BABA</th>\n",
       "      <th>^IRX</th>\n",
       "    </tr>\n",
       "  </thead>\n",
       "  <tbody>\n",
       "    <tr>\n",
       "      <th>31</th>\n",
       "      <td>2024-01-01</td>\n",
       "      <td>9.1775</td>\n",
       "      <td>48.506499</td>\n",
       "      <td>150.432495</td>\n",
       "      <td>75.447502</td>\n",
       "      <td>5.20475</td>\n",
       "    </tr>\n",
       "    <tr>\n",
       "      <th>32</th>\n",
       "      <td>2024-01-02</td>\n",
       "      <td>9.2000</td>\n",
       "      <td>48.167999</td>\n",
       "      <td>149.929993</td>\n",
       "      <td>74.760002</td>\n",
       "      <td>5.21300</td>\n",
       "    </tr>\n",
       "    <tr>\n",
       "      <th>33</th>\n",
       "      <td>2024-01-03</td>\n",
       "      <td>9.0500</td>\n",
       "      <td>47.569000</td>\n",
       "      <td>148.470001</td>\n",
       "      <td>76.589996</td>\n",
       "      <td>5.23500</td>\n",
       "    </tr>\n",
       "    <tr>\n",
       "      <th>34</th>\n",
       "      <td>2024-01-04</td>\n",
       "      <td>9.1800</td>\n",
       "      <td>47.998001</td>\n",
       "      <td>144.570007</td>\n",
       "      <td>74.660004</td>\n",
       "      <td>5.22800</td>\n",
       "    </tr>\n",
       "    <tr>\n",
       "      <th>35</th>\n",
       "      <td>2024-01-05</td>\n",
       "      <td>9.2900</td>\n",
       "      <td>49.097000</td>\n",
       "      <td>145.240005</td>\n",
       "      <td>73.010002</td>\n",
       "      <td>5.22000</td>\n",
       "    </tr>\n",
       "    <tr>\n",
       "      <th>...</th>\n",
       "      <td>...</td>\n",
       "      <td>...</td>\n",
       "      <td>...</td>\n",
       "      <td>...</td>\n",
       "      <td>...</td>\n",
       "      <td>...</td>\n",
       "    </tr>\n",
       "    <tr>\n",
       "      <th>356</th>\n",
       "      <td>2024-11-21</td>\n",
       "      <td>9.6900</td>\n",
       "      <td>146.669998</td>\n",
       "      <td>198.380005</td>\n",
       "      <td>85.580002</td>\n",
       "      <td>4.41300</td>\n",
       "    </tr>\n",
       "    <tr>\n",
       "      <th>357</th>\n",
       "      <td>2024-11-22</td>\n",
       "      <td>9.5400</td>\n",
       "      <td>141.949997</td>\n",
       "      <td>197.119995</td>\n",
       "      <td>83.129997</td>\n",
       "      <td>4.41500</td>\n",
       "    </tr>\n",
       "    <tr>\n",
       "      <th>358</th>\n",
       "      <td>2024-11-23</td>\n",
       "      <td>9.5400</td>\n",
       "      <td>141.949997</td>\n",
       "      <td>197.119995</td>\n",
       "      <td>83.129997</td>\n",
       "      <td>4.41500</td>\n",
       "    </tr>\n",
       "    <tr>\n",
       "      <th>359</th>\n",
       "      <td>2024-11-24</td>\n",
       "      <td>9.5400</td>\n",
       "      <td>141.949997</td>\n",
       "      <td>197.119995</td>\n",
       "      <td>83.129997</td>\n",
       "      <td>4.41500</td>\n",
       "    </tr>\n",
       "    <tr>\n",
       "      <th>360</th>\n",
       "      <td>2024-11-25</td>\n",
       "      <td>9.5400</td>\n",
       "      <td>141.949997</td>\n",
       "      <td>197.119995</td>\n",
       "      <td>83.129997</td>\n",
       "      <td>4.41500</td>\n",
       "    </tr>\n",
       "  </tbody>\n",
       "</table>\n",
       "<p>330 rows × 6 columns</p>\n",
       "</div>"
      ],
      "text/plain": [
       "           date    BBVA        NVDA        AMZN       BABA     ^IRX\n",
       "31   2024-01-01  9.1775   48.506499  150.432495  75.447502  5.20475\n",
       "32   2024-01-02  9.2000   48.167999  149.929993  74.760002  5.21300\n",
       "33   2024-01-03  9.0500   47.569000  148.470001  76.589996  5.23500\n",
       "34   2024-01-04  9.1800   47.998001  144.570007  74.660004  5.22800\n",
       "35   2024-01-05  9.2900   49.097000  145.240005  73.010002  5.22000\n",
       "..          ...     ...         ...         ...        ...      ...\n",
       "356  2024-11-21  9.6900  146.669998  198.380005  85.580002  4.41300\n",
       "357  2024-11-22  9.5400  141.949997  197.119995  83.129997  4.41500\n",
       "358  2024-11-23  9.5400  141.949997  197.119995  83.129997  4.41500\n",
       "359  2024-11-24  9.5400  141.949997  197.119995  83.129997  4.41500\n",
       "360  2024-11-25  9.5400  141.949997  197.119995  83.129997  4.41500\n",
       "\n",
       "[330 rows x 6 columns]"
      ]
     },
     "execution_count": 95,
     "metadata": {},
     "output_type": "execute_result"
    }
   ],
   "source": [
    "data"
   ]
  },
  {
   "cell_type": "code",
   "execution_count": 98,
   "metadata": {},
   "outputs": [
    {
     "data": {
      "text/plain": [
       "'2023-09-02'"
      ]
     },
     "execution_count": 98,
     "metadata": {},
     "output_type": "execute_result"
    }
   ],
   "source": [
    "start_date.strftime(\"%Y-%m-%d\")"
   ]
  },
  {
   "cell_type": "code",
   "execution_count": 106,
   "metadata": {},
   "outputs": [
    {
     "name": "stderr",
     "output_type": "stream",
     "text": [
      "100%|██████████████████████████████████████████████████████████████████████████████████████████████████████████████████████████████████████████████████████████████████████████████████████████████████████████████████| 86/86 [00:01<00:00, 73.71it/s]\n"
     ]
    }
   ],
   "source": [
    "stocks = [\"BBVA\", \"NVDA\", \"AMZN\", \"BABA\", \"^IRX\"]\n",
    "\n",
    "risk_free_rate = 0.05\n",
    "budget = 1\n",
    "\n",
    "results = {\"date\": [], \"pv\": []}\n",
    "for end_date in tqdm(dates):\n",
    "    start_date = end_date.date() - timedelta(days=365)  \n",
    "    data2 = data[(data.date>=start_date.strftime(\"%Y-%m-%d\")) & (data.date<=end_date.strftime(\"%Y-%m-%d\"))]\n",
    "    \n",
    "    mu = expected_returns.mean_historical_return(data2[stocks][:-1])\n",
    "    S = risk_models.sample_cov(data2[stocks][:-1])\n",
    "\n",
    "    ef = EfficientFrontier(mu, S)\n",
    "    raw_weights = ef.max_sharpe()\n",
    "    cleaned_weights = ef.clean_weights()\n",
    "\n",
    "    returns = dict(((data2[stocks].iloc[-1]-data2[stocks].iloc[-2]) / data2[stocks].iloc[-2]))\n",
    "    day_returns = 0\n",
    "    for stock, weight in cleaned_weights.items():\n",
    "        day_returns += weight * returns[stock]\n",
    "    budget = budget * (1 + day_returns)\n",
    "    \n",
    "    results[\"date\"].append(end_date.strftime(\"%Y-%m-%d\"))\n",
    "    results[\"pv\"].append(budget)\n",
    "\n"
   ]
  },
  {
   "cell_type": "code",
   "execution_count": 108,
   "metadata": {},
   "outputs": [
    {
     "data": {
      "text/html": [
       "<div>\n",
       "<style scoped>\n",
       "    .dataframe tbody tr th:only-of-type {\n",
       "        vertical-align: middle;\n",
       "    }\n",
       "\n",
       "    .dataframe tbody tr th {\n",
       "        vertical-align: top;\n",
       "    }\n",
       "\n",
       "    .dataframe thead th {\n",
       "        text-align: right;\n",
       "    }\n",
       "</style>\n",
       "<table border=\"1\" class=\"dataframe\">\n",
       "  <thead>\n",
       "    <tr style=\"text-align: right;\">\n",
       "      <th></th>\n",
       "      <th>date</th>\n",
       "      <th>pv</th>\n",
       "    </tr>\n",
       "  </thead>\n",
       "  <tbody>\n",
       "    <tr>\n",
       "      <th>0</th>\n",
       "      <td>2024-09-01</td>\n",
       "      <td>0.975859</td>\n",
       "    </tr>\n",
       "    <tr>\n",
       "      <th>1</th>\n",
       "      <td>2024-09-02</td>\n",
       "      <td>0.951736</td>\n",
       "    </tr>\n",
       "    <tr>\n",
       "      <th>2</th>\n",
       "      <td>2024-09-03</td>\n",
       "      <td>0.927633</td>\n",
       "    </tr>\n",
       "    <tr>\n",
       "      <th>3</th>\n",
       "      <td>2024-09-04</td>\n",
       "      <td>0.912533</td>\n",
       "    </tr>\n",
       "    <tr>\n",
       "      <th>4</th>\n",
       "      <td>2024-09-05</td>\n",
       "      <td>0.920865</td>\n",
       "    </tr>\n",
       "    <tr>\n",
       "      <th>...</th>\n",
       "      <td>...</td>\n",
       "      <td>...</td>\n",
       "    </tr>\n",
       "    <tr>\n",
       "      <th>81</th>\n",
       "      <td>2024-11-21</td>\n",
       "      <td>1.178881</td>\n",
       "    </tr>\n",
       "    <tr>\n",
       "      <th>82</th>\n",
       "      <td>2024-11-22</td>\n",
       "      <td>1.140943</td>\n",
       "    </tr>\n",
       "    <tr>\n",
       "      <th>83</th>\n",
       "      <td>2024-11-23</td>\n",
       "      <td>1.140943</td>\n",
       "    </tr>\n",
       "    <tr>\n",
       "      <th>84</th>\n",
       "      <td>2024-11-24</td>\n",
       "      <td>1.140943</td>\n",
       "    </tr>\n",
       "    <tr>\n",
       "      <th>85</th>\n",
       "      <td>2024-11-25</td>\n",
       "      <td>1.140943</td>\n",
       "    </tr>\n",
       "  </tbody>\n",
       "</table>\n",
       "<p>86 rows × 2 columns</p>\n",
       "</div>"
      ],
      "text/plain": [
       "          date        pv\n",
       "0   2024-09-01  0.975859\n",
       "1   2024-09-02  0.951736\n",
       "2   2024-09-03  0.927633\n",
       "3   2024-09-04  0.912533\n",
       "4   2024-09-05  0.920865\n",
       "..         ...       ...\n",
       "81  2024-11-21  1.178881\n",
       "82  2024-11-22  1.140943\n",
       "83  2024-11-23  1.140943\n",
       "84  2024-11-24  1.140943\n",
       "85  2024-11-25  1.140943\n",
       "\n",
       "[86 rows x 2 columns]"
      ]
     },
     "execution_count": 108,
     "metadata": {},
     "output_type": "execute_result"
    }
   ],
   "source": [
    "pd.DataFrame(results)"
   ]
  },
  {
   "cell_type": "code",
   "execution_count": 109,
   "metadata": {},
   "outputs": [],
   "source": [
    "df_mark = pd.DataFrame(results)"
   ]
  },
  {
   "cell_type": "code",
   "execution_count": 110,
   "metadata": {},
   "outputs": [],
   "source": [
    "df_mark.to_csv(\"data/_markovitz_portfolio_value.csv\", index=False)"
   ]
  },
  {
   "cell_type": "code",
   "execution_count": null,
   "metadata": {},
   "outputs": [],
   "source": []
  }
 ],
 "metadata": {
  "kernelspec": {
   "display_name": "Python 3 (ipykernel)",
   "language": "python",
   "name": "python3"
  },
  "language_info": {
   "codemirror_mode": {
    "name": "ipython",
    "version": 3
   },
   "file_extension": ".py",
   "mimetype": "text/x-python",
   "name": "python",
   "nbconvert_exporter": "python",
   "pygments_lexer": "ipython3",
   "version": "3.11.7"
  }
 },
 "nbformat": 4,
 "nbformat_minor": 4
}
